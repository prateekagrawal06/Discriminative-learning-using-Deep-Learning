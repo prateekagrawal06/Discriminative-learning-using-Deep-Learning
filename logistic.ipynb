{
 "cells": [
  {
   "cell_type": "code",
   "execution_count": 1,
   "metadata": {
    "collapsed": false
   },
   "outputs": [],
   "source": [
    "import urllib2\n",
    "import random\n",
    "from math import exp,fabs,log10\n",
    "import numpy as np\n",
    "from sklearn.preprocessing import PolynomialFeatures\n",
    "from sklearn.cross_validation import KFold\n",
    "from sklearn.datasets import fetch_mldata\n",
    "import numpy as np\n",
    "import os\n",
    "from pylab import *\n",
    "import random"
   ]
  },
  {
   "cell_type": "code",
   "execution_count": null,
   "metadata": {
    "collapsed": true
   },
   "outputs": [],
   "source": [
    "## Computing non linear representation of the data\n",
    "\n",
    "def define_Z(X,d):\n",
    "    poly = PolynomialFeatures(d)\n",
    "    Z = poly.fit_transform(X)\n",
    "    return Z"
   ]
  },
  {
   "cell_type": "code",
   "execution_count": null,
   "metadata": {
    "collapsed": true
   },
   "outputs": [],
   "source": [
    "##computes the accuracy of the predicted value\n",
    "def accuracy(Y,Y_hat):\n",
    "                \n",
    "    sum1 = sum([1 for i in range(len(Y)) if Y[i] == Y_hat[i]])\n",
    "    return (1.0*sum1/len(Y))*100"
   ]
  },
  {
   "cell_type": "code",
   "execution_count": null,
   "metadata": {
    "collapsed": true
   },
   "outputs": [],
   "source": [
    "## return a value betwween 0 and 1\n",
    "\n",
    "def sigmoid_2class(theta,z):\n",
    "    z = np.reshape(np.array(z),(len(z),1))\n",
    "    return (1/(1 + exp(-np.dot(np.transpose(theta),z))))"
   ]
  },
  {
   "cell_type": "code",
   "execution_count": null,
   "metadata": {
    "collapsed": true
   },
   "outputs": [],
   "source": [
    "## traning method for 2 class clssification\n",
    "def training_2class(Z,Y,lr):\n",
    "    \n",
    "    best = False    \n",
    "    theta = np.zeros(shape=(Z.shape[1],1))\n",
    "    theta.fill(0.01)\n",
    "    max_it = 0    \n",
    "    l_new = -1.0 * sum([(Y[i]*log10(sigmoid_2class(Z[i],theta))) + ((1-Y[i])*log10(1-sigmoid_2class(Z[i],theta))) for i in range(Z.shape[0])])\n",
    "    while best == False:\n",
    "        \n",
    "        l_pre = l_new\n",
    "        \n",
    "        \n",
    "        grad = 0\n",
    "        \n",
    "        for i in range(Z.shape[0]):\n",
    "            \n",
    "            grad += (sigmoid_2class(theta,Z[i]) - Y[i]) * np.reshape(np.array(Z[i]),(len(Z[i]),1))\n",
    "        \n",
    "        theta = theta - lr*grad\n",
    "        \n",
    "        l_new = -1.0 * sum([(Y[i]*log10(sigmoid_2class(Z[i],theta))) + ((1-Y[i])*log10(1-sigmoid_2class(Z[i],theta))) for i in range(Z.shape[0])])\n",
    "        \n",
    "        #print l_new\n",
    "               \n",
    "        max_it += 1\n",
    "        #print max_it\n",
    "        if max_it == 200 or abs(l_new - l_pre) < 0.2 :\n",
    "            best = True\n",
    "            \n",
    "    return theta\n",
    "    "
   ]
  },
  {
   "cell_type": "code",
   "execution_count": null,
   "metadata": {
    "collapsed": true
   },
   "outputs": [],
   "source": [
    "## using ten cross fold to compute the error\n",
    "\n",
    "def ten_cross_fold_2class(Z,Y,lr):    \n",
    "    \n",
    "    \n",
    "    accuracies = []\n",
    "    cv = KFold(len(Y),10)\n",
    "    for train_id,test_id in cv:\n",
    "        Y_hat = []\n",
    "        theta = training_2class(Z[train_id],Y[train_id],lr)\n",
    "        \n",
    "        Y_hat = [1 if sigmoid_2class(theta,z) > 0.5 else 0 for z in Z[test_id]]\n",
    "        \n",
    "        accuracies.append(accuracy(Y[test_id],Y_hat))\n",
    "        \n",
    "    return np.mean(accuracies)"
   ]
  },
  {
   "cell_type": "code",
   "execution_count": null,
   "metadata": {
    "collapsed": false,
    "scrolled": true
   },
   "outputs": [],
   "source": [
    "## using the bank note data set for 2 class classification\n",
    "\n",
    "url = \"http://archive.ics.uci.edu/ml/machine-learning-databases/00267/data_banknote_authentication.txt\"\n",
    "data = urllib2.urlopen(url)\n",
    "data = data.read()\n",
    "data = data.split(\"\\r\\n\")\n",
    "random.shuffle(data)\n",
    "\n",
    "X = []\n",
    "Y = []\n",
    "for i in data:\n",
    "    i = i.split(',')\n",
    "    Y.append(int(i[len(i)-1]))\n",
    "    i = map(float,i[0:len(i)-1])\n",
    "    X.append(i)\n",
    "    \n",
    "X = np.array(X)\n",
    "cat = (set(Y))\n",
    "Y = np.reshape(np.array(Y),(len(Y),1))\n",
    "#print X.shape\n",
    "#print Y.shape\n",
    "#print cat\n",
    "Z = define_Z(X,2)\n",
    "#print Z.shape\n",
    "\n",
    "#theta = training_2class(Z[:1300],Y[:1300],.00001)\n",
    "error = ten_cross_fold_2class(Z,Y,0.00001)\n",
    "print error"
   ]
  },
  {
   "cell_type": "code",
   "execution_count": null,
   "metadata": {
    "collapsed": true
   },
   "outputs": [],
   "source": [
    "######################################################################################################################"
   ]
  },
  {
   "cell_type": "code",
   "execution_count": null,
   "metadata": {
    "collapsed": true
   },
   "outputs": [],
   "source": [
    "#### indication function to return 1 and O depending on the class\n",
    "\n",
    "def indicator(y,k):\n",
    "    if y==k:\n",
    "        return 1.0\n",
    "    else:\n",
    "        return 0.0"
   ]
  },
  {
   "cell_type": "code",
   "execution_count": null,
   "metadata": {
    "collapsed": true
   },
   "outputs": [],
   "source": [
    "## computing the actual prediction\n",
    "\n",
    "\n",
    "def classification_kclass(thetas,z,K):\n",
    "    \n",
    "    g = [softmax_kclass(thetas,z,k) for k in range(K)]\n",
    "    return g.index(max(g))"
   ]
  },
  {
   "cell_type": "code",
   "execution_count": null,
   "metadata": {
    "collapsed": true
   },
   "outputs": [],
   "source": [
    "##returns a value between 0 and 1\n",
    "\n",
    "def softmax_kclass(thetas,z,cls):\n",
    "    \n",
    "    z = np.reshape(np.array(z),(len(z),1))\n",
    "    d = 0\n",
    "    \n",
    "    d = sum([ exp(np.dot(np.transpose(theta),z)) for theta in thetas])\n",
    "    \n",
    "    n = exp(np.dot(np.transpose(thetas[cls]),z))\n",
    "    return (1.*n/d)"
   ]
  },
  {
   "cell_type": "code",
   "execution_count": null,
   "metadata": {
    "collapsed": false
   },
   "outputs": [],
   "source": [
    "# training function k class classifier\n",
    "\n",
    "def training_kclass(Z,Y,lr,K):\n",
    "    \n",
    "    thetas = np.zeros(shape=(K,Z.shape[1]))\n",
    "    \n",
    "    thetas.fill(0.1)\n",
    "    \n",
    "    #print thetas\n",
    "    \n",
    "    max_it = 0\n",
    "    \n",
    "    best = False\n",
    "    \n",
    "    l_new = -1.0 * sum([((indicator(Y[i],k))*(log10(softmax_kclass(thetas,Z[i],k)))) for i in range(Z.shape[0]) for k in range(K)])\n",
    "    \n",
    "    while best == False:\n",
    "        \n",
    "        l_pre = l_new\n",
    "        \n",
    "        for k in range(K):\n",
    "\n",
    "            grad = 0\n",
    "\n",
    "            for i in range(Z.shape[0]):\n",
    "\n",
    "                grad += (softmax_kclass(thetas,Z[i],k) - indicator(Y[i],k))*Z[i]\n",
    "            \n",
    "            thetas[k] = thetas[k] - lr*grad\n",
    "\n",
    "        \n",
    "\n",
    "        l_new = -1.0 * sum([((indicator(Y[i],k))*(log10(softmax_kclass(thetas,Z[i],k)))) for i in range(Z.shape[0]) for k in range(K)])\n",
    "\n",
    "        \n",
    "        \n",
    "        max_it += 1\n",
    "        \n",
    "        if max_it == 200 or abs(l_new - l_pre) < 0.1 :\n",
    "            best = True\n",
    "            \n",
    "    return thetas\n",
    "    "
   ]
  },
  {
   "cell_type": "code",
   "execution_count": null,
   "metadata": {
    "collapsed": true
   },
   "outputs": [],
   "source": [
    "## using ten cross fold error to compute the error\n",
    "\n",
    "def ten_cross_fold_kclass(Z,Y,lr,K):    \n",
    "    \n",
    "    \n",
    "    accuracies = []\n",
    "    cv = KFold(len(Y),10)\n",
    "    for train_id,test_id in cv:\n",
    "        Y_hat = []\n",
    "        thetas = training_kclass(Z[train_id],Y[train_id],lr,K)\n",
    "        \n",
    "               \n",
    "        Y_hat = [ classification_kclass(thetas,z,K) for z in Z[test_id]]\n",
    "        \n",
    "        accuracies.append(accuracy(Y[test_id],Y_hat))\n",
    "    return np.mean(accuracies)"
   ]
  },
  {
   "cell_type": "code",
   "execution_count": null,
   "metadata": {
    "collapsed": false,
    "scrolled": true
   },
   "outputs": [],
   "source": [
    "########################### Data for logistic Regression k class discrimination #########################\n",
    "\n",
    "url = \"http://archive.ics.uci.edu/ml/machine-learning-databases/iris/iris.data\"\n",
    "data = urllib2.urlopen(url)\n",
    "data = data.read()\n",
    "data = data.split(\"\\n\")\n",
    "data = data[0:len(data)-2]\n",
    "random.shuffle(data)\n",
    "\n",
    "X = []\n",
    "Y = []\n",
    "for i in data:\n",
    "    i = i.split(',')\n",
    "    Y.append(i[len(i)-1])\n",
    "    i = map(float,i[0:len(i)-1])\n",
    "    X.append(i)\n",
    "for i in range(len(Y)):\n",
    "    if Y[i] == 'Iris-setosa':\n",
    "        Y[i] = 0\n",
    "    elif Y[i] == 'Iris-versicolor':\n",
    "        Y[i] = 1\n",
    "    elif Y[i] == 'Iris-virginica':\n",
    "        Y[i] = 2\n",
    "X = np.array(X)\n",
    "cat = (set(Y))\n",
    "Y = np.reshape(np.array(Y),(len(Y),1))\n",
    "Z = define_Z(X,2)\n",
    "K = len(cat)\n",
    "\n",
    "\n",
    "error = ten_cross_fold_kclass(Z,Y,0.00001,K)\n",
    "print error"
   ]
  },
  {
   "cell_type": "code",
   "execution_count": null,
   "metadata": {
    "collapsed": true
   },
   "outputs": [],
   "source": []
  }
 ],
 "metadata": {
  "kernelspec": {
   "display_name": "Python 2",
   "language": "python",
   "name": "python2"
  },
  "language_info": {
   "codemirror_mode": {
    "name": "ipython",
    "version": 2
   },
   "file_extension": ".py",
   "mimetype": "text/x-python",
   "name": "python",
   "nbconvert_exporter": "python",
   "pygments_lexer": "ipython2",
   "version": "2.7.11"
  }
 },
 "nbformat": 4,
 "nbformat_minor": 0
}
